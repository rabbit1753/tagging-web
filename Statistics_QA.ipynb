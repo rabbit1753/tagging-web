{
 "cells": [
  {
   "cell_type": "code",
   "execution_count": 1,
   "id": "c426b1fa-3c72-4b36-80ff-7feb58fffa33",
   "metadata": {},
   "outputs": [],
   "source": [
    "import os\n",
    "import csv\n",
    "import json"
   ]
  },
  {
   "cell_type": "code",
   "execution_count": 2,
   "id": "edb896fb-ff0d-4433-a685-c81964dbf8bf",
   "metadata": {},
   "outputs": [],
   "source": [
    "# student id = 108102021 葉丞恩\n",
    "# student id = 108101019 董沂函\n",
    "# student id = 108101528 梁恩維\n",
    "# student id = 108101510 陳姿吟\n",
    "# student id = wen 文紫柔\n",
    "# student id = YI-YING LI 李羿瑩\n",
    "# student id = Mavis 許舒婷\n",
    "# teacher id = jahui\n",
    "# teacher id = fangxiang\n",
    "# teacher id = Siaw-Fong\n",
    "\n",
    "name_id = 'jahui'\n",
    "dataset = 'train'\n",
    "\n",
    "story_dir = f'./text_and_tagging/Fairytale/{dataset}'\n",
    "event_dir = f'./text_and_tagging/tags/{name_id}/Fairytale/Event'\n",
    "relation_dir = f'./text_and_tagging/tags/{name_id}/Fairytale/Relation'\n",
    "attr_dir = f'./text_and_tagging/Fairytale/{dataset}/attribute'"
   ]
  },
  {
   "cell_type": "markdown",
   "id": "680e88f1-daf8-498b-a581-04911b7b6467",
   "metadata": {
    "tags": []
   },
   "source": [
    "## Event Statistics"
   ]
  },
  {
   "cell_type": "code",
   "execution_count": 3,
   "id": "ac24c080-f035-4690-a8a9-0384682c215a",
   "metadata": {},
   "outputs": [
    {
     "name": "stdout",
     "output_type": "stream",
     "text": [
      "(Event)已標記英文故事： 14\n"
     ]
    }
   ],
   "source": [
    "black_list = ['.ipynb_checkpoints']\n",
    "labeled_event_fn = os.listdir(event_dir)\n",
    "event_story = []\n",
    "for fn in labeled_event_fn:\n",
    "    if fn not in black_list:\n",
    "        event_story.append(fn)\n",
    "print('(Event)已標記英文故事：', len(event_story))"
   ]
  },
  {
   "cell_type": "code",
   "execution_count": 4,
   "id": "f193588d-4520-4b56-bf35-2d9fa33f09c7",
   "metadata": {},
   "outputs": [],
   "source": [
    "statistics = []\n",
    "\n",
    "for fn in event_story:\n",
    "    path = os.path.join(event_dir, fn)\n",
    "    with open(path, 'r', encoding = 'utf-8') as f:\n",
    "        record = json.load(f)\n",
    "    for event in record:\n",
    "        story_record = []\n",
    "    \n",
    "        attribute_path = os.path.join(attr_dir, event['which_QA'])\n",
    "        with open(attribute_path, 'r', encoding = 'utf-8') as atti_f: \n",
    "            story_record.append(atti_f.readline())\n",
    "        \n",
    "        question_dir = story_dir + '/question'\n",
    "        question_path = os.path.join(question_dir, event['which_QA'])\n",
    "        with open(question_path, 'r', encoding = 'utf-8') as f:\n",
    "            story_record.append(f.readline())\n",
    "        \n",
    "        answer_dir = story_dir + '/answer'\n",
    "        answer_path = os.path.join(answer_dir, event['which_QA'])\n",
    "        with open(answer_path, 'r', encoding = 'utf-8') as f:\n",
    "            story_record.append(f.readline())\n",
    "        \n",
    "        story_record.append(event['which_QA'].replace('.txt', ''))\n",
    "        eventType = event['Event_type']+' - '+event['Event_subtype']\n",
    "        story_record.append(eventType)\n",
    "        story_record.append(\"\")\n",
    "        statistics.append(story_record)\n",
    "        "
   ]
  },
  {
   "cell_type": "markdown",
   "id": "038c9a95-5e11-4fba-a735-d595ef9af607",
   "metadata": {
    "tags": []
   },
   "source": [
    "## Relation Statistics"
   ]
  },
  {
   "cell_type": "code",
   "execution_count": 5,
   "id": "09b0729f-df6f-416a-9816-666999fb2574",
   "metadata": {},
   "outputs": [
    {
     "name": "stdout",
     "output_type": "stream",
     "text": [
      "(Relation)已標記英文故事： 14\n"
     ]
    }
   ],
   "source": [
    "black_list = ['.ipynb_checkpoints']\n",
    "labeled_relation_fn = os.listdir(relation_dir)\n",
    "relation_story = []\n",
    "for fn in labeled_relation_fn:\n",
    "    if fn not in black_list:\n",
    "        relation_story.append(fn)\n",
    "print('(Relation)已標記英文故事：', len(relation_story))"
   ]
  },
  {
   "cell_type": "code",
   "execution_count": 6,
   "id": "f5c89cda-f6b1-480e-8039-695d308838a8",
   "metadata": {},
   "outputs": [],
   "source": [
    "for fn in relation_story:\n",
    "    path = os.path.join(relation_dir, fn)\n",
    "    with open(path, 'r', encoding = 'utf-8') as f:\n",
    "        record = json.load(f)\n",
    "    for relation in record:\n",
    "        story_record = []\n",
    "        \n",
    "        attribute_path = os.path.join(attr_dir, relation['which_QA'])\n",
    "        with open(attribute_path, 'r', encoding = 'utf-8') as atti_f: \n",
    "            story_record.append(atti_f.readline())\n",
    "        \n",
    "        question_dir = story_dir + '/question'\n",
    "        question_path = os.path.join(question_dir, relation['which_QA'])\n",
    "        with open(question_path, 'r', encoding = 'utf-8') as f:\n",
    "            story_record.append(f.readline())\n",
    "        \n",
    "        answer_dir = story_dir + '/answer'\n",
    "        answer_path = os.path.join(answer_dir, relation['which_QA'])\n",
    "        with open(answer_path, 'r', encoding = 'utf-8') as f:\n",
    "            story_record.append(f.readline())\n",
    "        \n",
    "        story_record.append(relation['which_QA'].replace('.txt', ''))\n",
    "        realtionType = relation['Relation_type']+' - '+relation['Relation_subtype']\n",
    "        story_record.append(\"\")\n",
    "        story_record.append(realtionType)\n",
    "        statistics.append(story_record)\n",
    "        "
   ]
  },
  {
   "cell_type": "markdown",
   "id": "b755b487-20af-40ed-ac91-35676b8b4de8",
   "metadata": {
    "tags": []
   },
   "source": [
    "## Make CSV"
   ]
  },
  {
   "cell_type": "code",
   "execution_count": 7,
   "id": "959a1255-d175-4123-b98d-38463f5ed148",
   "metadata": {},
   "outputs": [],
   "source": [
    "data = ['Question type', 'Question', 'Answer', 'Paragraph', 'Event type -subtype', 'Relation type - subtype']\n",
    "with open(f'./csv/{dataset}/{name_id}.csv', 'w', newline = '') as csvfile:\n",
    "    writer = csv.writer(csvfile, delimiter = ',')\n",
    "    writer.writerow(data)\n",
    "    for data in sorted(statistics, key = lambda x:x[3]):\n",
    "        writer.writerow(data)"
   ]
  }
 ],
 "metadata": {
  "kernelspec": {
   "display_name": "Python 3 (ipykernel)",
   "language": "python",
   "name": "python3"
  },
  "language_info": {
   "codemirror_mode": {
    "name": "ipython",
    "version": 3
   },
   "file_extension": ".py",
   "mimetype": "text/x-python",
   "name": "python",
   "nbconvert_exporter": "python",
   "pygments_lexer": "ipython3",
   "version": "3.8.8"
  }
 },
 "nbformat": 4,
 "nbformat_minor": 5
}
