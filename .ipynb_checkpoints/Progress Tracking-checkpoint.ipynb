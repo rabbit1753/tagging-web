{
 "cells": [
  {
   "cell_type": "code",
   "execution_count": 1,
   "id": "c740dc59-99d6-40d3-b99b-0be64f1761d7",
   "metadata": {},
   "outputs": [],
   "source": [
    "import os\n",
    "import json\n",
    "import csv\n",
    "import shutil\n",
    "import pandas as pd\n",
    "from collections import Counter, defaultdict"
   ]
  },
  {
   "cell_type": "code",
   "execution_count": 2,
   "id": "6d013b5f-52a4-4f85-a43f-329b6c0c5a4e",
   "metadata": {},
   "outputs": [],
   "source": [
    "def is_contains_chinese(strs):\n",
    "    for _char in strs:\n",
    "        if '\\u4e00' <= _char <= '\\u9fa5':\n",
    "            return True\n",
    "    return False"
   ]
  },
  {
   "cell_type": "code",
   "execution_count": 3,
   "id": "ab1acf9c",
   "metadata": {},
   "outputs": [],
   "source": [
    "# student id = 108102021 葉丞恩\n",
    "# student id = 108101019 董沂函\n",
    "# student id = 108101528 梁恩維\n",
    "# student id = 108101510 陳姿吟\n",
    "# student id = wen 文紫柔\n",
    "# student id = YI-YING LI 李羿瑩\n",
    "# student id = Mavis 許舒婷\n",
    "# teacher id = jahui\n",
    "# teacher id = fangxiang\n",
    "# teacher id = Siaw-Fong\n",
    "\n",
    "name_id = 'Mavis'\n",
    "dataset = 'train'\n",
    "\n",
    "text_dir = './text_and_tagging/Fairytale/train/content'\n",
    "event_dir = f'./text_and_tagging/tags/{name_id}/Fairytale/Event'\n",
    "relation_dir = f'./text_and_tagging/tags/{name_id}/Fairytale/Relation'\n",
    "entity_dir = f'./text_and_tagging/tags/{name_id}/Fairytale/Entity'\n",
    "attr_dir = f'./text_and_tagging/Fairytale/{dataset}/attribute'"
   ]
  },
  {
   "cell_type": "markdown",
   "id": "fc4050ca-6ea5-4b87-91dc-84cc491d2f2a",
   "metadata": {
    "tags": []
   },
   "source": [
    "## Attribute"
   ]
  },
  {
   "cell_type": "markdown",
   "id": "e99b06ea-373f-4c1a-be13-414a6e07d6cb",
   "metadata": {
    "tags": []
   },
   "source": [
    "## Event Count"
   ]
  },
  {
   "cell_type": "code",
   "execution_count": 4,
   "id": "d4796a46-32e3-44dc-a3ff-e08302abe155",
   "metadata": {},
   "outputs": [
    {
     "name": "stdout",
     "output_type": "stream",
     "text": [
      "全部英文故事： 4038\n",
      "(Event)已標記英文故事： 7\n"
     ]
    }
   ],
   "source": [
    "file_names = os.listdir(text_dir)\n",
    "eng_story = []\n",
    "black_list = ['.ipynb_checkpoints']\n",
    "\n",
    "for file_name in file_names:\n",
    "    if file_name in black_list:\n",
    "        continue\n",
    "    if not is_contains_chinese(file_name):\n",
    "        eng_story.append(file_name.replace('.txt', ''))\n",
    "\n",
    "labeled_event_fn = os.listdir(event_dir)\n",
    "labeled_event_story = []\n",
    "for fn in labeled_event_fn:\n",
    "    if fn.replace('.json', '') in eng_story:\n",
    "        labeled_event_story.append(fn)\n",
    "\n",
    "print('全部英文故事：', len(eng_story))\n",
    "print('(Event)已標記英文故事：', len(labeled_event_story))"
   ]
  },
  {
   "cell_type": "code",
   "execution_count": 5,
   "id": "e527806a",
   "metadata": {},
   "outputs": [
    {
     "name": "stdout",
     "output_type": "stream",
     "text": [
      "共標記 9 個事件\n",
      "共標記 19 個事件參數 (role)\n",
      "=== 事件類別統計 ===\n",
      "State : 5\n",
      "Action : 4\n"
     ]
    }
   ],
   "source": [
    "story_event_counter = Counter()\n",
    "event_type_counter = Counter()\n",
    "role_type_counter = Counter()\n",
    "attribute_f = set()\n",
    "event_attribute_type = defaultdict(list)\n",
    "\n",
    "for story in eng_story:\n",
    "    story_event_counter[story.replace('.txt', '')] = 0\n",
    "\n",
    "for fn in labeled_event_story:\n",
    "    path = os.path.join(event_dir, fn)\n",
    "    with open(path, 'r', encoding='utf-8') as f:\n",
    "        record = json.load(f)\n",
    "    for event in record:\n",
    "        eventType = event['Event_type']\n",
    "        event_type_counter.update({eventType:1})\n",
    "        story_event_counter.update({fn.replace('.json', ''):1})\n",
    "        \n",
    "        attribute_path = os.path.join(attr_dir, event['which_QA'])\n",
    "        with open(attribute_path, 'r', encoding = 'utf-8') as atti_f: \n",
    "            attribute_type = atti_f.readline()\n",
    "            attribute_f.add(attribute_path)\n",
    "            event_attribute_type[attribute_type].append(eventType)\n",
    "            \n",
    "        roles = event['Arguments']\n",
    "        for role in roles:\n",
    "            if 'Trigger' in role['Arg_type']:\n",
    "                continue\n",
    "            roleType = role['Arg_type']\n",
    "            role_type_counter.update({roleType:1})\n",
    "       \n",
    "total_events = 0\n",
    "total_roles = 0\n",
    "\n",
    "for tup in event_type_counter.most_common():\n",
    "    total_events += tup[1]\n",
    "for tup in role_type_counter.most_common():\n",
    "    total_roles += tup[1]\n",
    "    \n",
    "print('共標記 {:} 個事件'.format(total_events))\n",
    "print('共標記 {:} 個事件參數 (role)'.format(total_roles))\n",
    "\n",
    "print('=== 事件類別統計 ===')\n",
    "for tup in event_type_counter.most_common():\n",
    "    et, count = tup\n",
    "    print(et, ':', count)\n",
    "    \n",
    "# df = pd.DataFrame.from_dict(story_event_counter, orient='index').reset_index()\n",
    "# df = df.rename(columns={'index':'story name', 0:'count'})\n",
    "# df.to_excel('./result.xlsx')"
   ]
  },
  {
   "cell_type": "markdown",
   "id": "dca7d943",
   "metadata": {},
   "source": [
    "## Event Attribute 統計"
   ]
  },
  {
   "cell_type": "code",
   "execution_count": 6,
   "id": "3f26194f-d701-40cd-8c3b-06018e15f093",
   "metadata": {},
   "outputs": [
    {
     "name": "stdout",
     "output_type": "stream",
     "text": [
      "defaultdict(<class 'list'>, {'feeling': ['farmer-and-badger02-2'], 'action': ['farmer-and-badger03-4', 'farmer-and-badger02-5'], 'setting': ['farmer-and-badger01-1'], 'character': ['farmer-and-badger02-4', 'farmer-and-badger01-2'], 'causal relationship': ['farmer-and-badger03-1', 'farmer-and-badger03-5'], 'outcome resolution': ['farmer-and-badger05-1']})\n",
      "\n",
      "defaultdict(<class 'list'>, {'feeling': ['State'], 'action': ['Action', 'Action'], 'character': ['Action', 'State'], 'causal relationship': ['State', 'State'], 'setting': ['Action'], 'outcome resolution': ['State']})\n",
      "=== Event Attribute 統計 ===\n",
      "feeling 1.0\n",
      "action 1.0\n",
      "setting 1.0\n",
      "character 1.0\n",
      "causal relationship 1.0\n",
      "outcome resolution 1.0\n"
     ]
    }
   ],
   "source": [
    "attribute_type_counter = defaultdict(list)\n",
    "\n",
    "for path in attribute_f:\n",
    "    with open(path, 'r', encoding = 'utf-8') as f:\n",
    "        attribute = f.readline()\n",
    "        attribute_type_counter[attribute].append(path.split('/')[-1].replace('.txt', ''))\n",
    "\n",
    "print(attribute_type_counter)\n",
    "print(\"\")\n",
    "print(event_attribute_type)        \n",
    "\n",
    "print('=== Event Attribute 統計 ===')\n",
    "for key in attribute_type_counter.keys():\n",
    "    print(key, len(event_attribute_type[key]) / len(attribute_type_counter[key]) )"
   ]
  },
  {
   "cell_type": "markdown",
   "id": "c1d1ea0a-5729-4acc-b09d-3e4cf9e77a93",
   "metadata": {},
   "source": [
    "## Event bipartite 輸出"
   ]
  },
  {
   "cell_type": "code",
   "execution_count": 7,
   "id": "def1dbde-387a-452e-ac7e-41f57d3e22d5",
   "metadata": {},
   "outputs": [],
   "source": [
    "# print(event_attribute_type)\n",
    "\n",
    "register = []\n",
    "\n",
    "for key in event_attribute_type:\n",
    "    event_count = Counter(event_attribute_type[key])\n",
    "    for e_type in event_count:\n",
    "        register.append([key, e_type, event_count[e_type]])\n",
    "\n",
    "if not os.path.isdir(f'bipartite_output_format/{name_id}'):\n",
    "    os.mkdir(f'bipartite_output_format/{name_id}')\n",
    "\n",
    "with open(f'bipartite_output_format/{name_id}/Event.csv', 'w') as csvfile:\n",
    "    writer = csv.writer(csvfile, delimiter = ',')\n",
    "    for i in register:\n",
    "        writer.writerow(i)"
   ]
  },
  {
   "cell_type": "markdown",
   "id": "0248b32e-2346-4a69-b9fa-8b0f1e66071b",
   "metadata": {},
   "source": [
    "## Relation Count"
   ]
  },
  {
   "cell_type": "code",
   "execution_count": 8,
   "id": "08b322d0",
   "metadata": {},
   "outputs": [
    {
     "name": "stdout",
     "output_type": "stream",
     "text": [
      "全部英文故事： 4038\n",
      "(Relation)已標記英文故事： 7\n"
     ]
    }
   ],
   "source": [
    "labeled_relation_fn = os.listdir(relation_dir)\n",
    "labeled_relation_story = []\n",
    "for fn in labeled_relation_fn:\n",
    "    if fn.replace('.json', '') in eng_story:\n",
    "        labeled_relation_story.append(fn)\n",
    "\n",
    "print('全部英文故事：', len(eng_story))\n",
    "print('(Relation)已標記英文故事：', len(labeled_relation_story))"
   ]
  },
  {
   "cell_type": "code",
   "execution_count": 9,
   "id": "14ca618c",
   "metadata": {},
   "outputs": [
    {
     "name": "stdout",
     "output_type": "stream",
     "text": [
      "共標記 38 個Relation\n",
      "共標記 38 個Relation_subtype參數 \n",
      "=== Relation subtype類別統計 ===\n",
      "Coref : 24\n",
      "X intent : 3\n",
      "Effect on X : 3\n",
      "X reaction : 3\n",
      "X want : 3\n",
      "Temporal : 1\n",
      "X attribute : 1\n"
     ]
    }
   ],
   "source": [
    "story_relation_counter = Counter()\n",
    "relation_type_counter = Counter()\n",
    "role_type_counter = Counter()\n",
    "relation_attribute_type = defaultdict(list)\n",
    "attribute_f = set()\n",
    "\n",
    "for story in eng_story:\n",
    "    story_relation_counter[story.replace('.txt', '')] = 0\n",
    "\n",
    "for fn in labeled_relation_story:\n",
    "    path = os.path.join(relation_dir, fn)\n",
    "    with open(path, 'r', encoding='utf-8') as f:\n",
    "        record = json.load(f)\n",
    "    for relation in record:\n",
    "        relationType = relation['Relation_type']\n",
    "        relation_type_counter.update({relationType:1})\n",
    "        story_relation_counter.update({fn.replace('.json', ''):1})\n",
    "        subtype = relation['Relation_subtype']\n",
    "        role_type_counter.update({subtype:1})\n",
    "        \n",
    "        attribute_path = os.path.join(attr_dir, relation['which_QA'])\n",
    "        with open(attribute_path, 'r', encoding = 'utf-8') as atti_f: \n",
    "            attribute_type = atti_f.readline()\n",
    "            attribute_f.add(attribute_path)\n",
    "            relation_attribute_type[attribute_type].append(relationType)\n",
    "            \n",
    "total_relations = 0\n",
    "total_roles = 0\n",
    "\n",
    "for tup in relation_type_counter.most_common():\n",
    "    total_relations += tup[1]\n",
    "for tup in role_type_counter.most_common():\n",
    "    total_roles += tup[1]\n",
    "\n",
    "print('共標記 {:} 個Relation'.format(total_relations))\n",
    "print('共標記 {:} 個Relation_subtype參數 '.format(total_roles))\n",
    "\n",
    "print('=== Relation subtype類別統計 ===')\n",
    "for tup in role_type_counter.most_common():\n",
    "    et, count = tup\n",
    "    print(et, ':', count)"
   ]
  },
  {
   "cell_type": "markdown",
   "id": "9fdd6a96-21f0-4f41-82da-5bd85b646ecf",
   "metadata": {},
   "source": [
    "## Relation Attribute 統計"
   ]
  },
  {
   "cell_type": "code",
   "execution_count": 10,
   "id": "95708f09-8d70-48f5-8454-1e78718e50f3",
   "metadata": {},
   "outputs": [
    {
     "name": "stdout",
     "output_type": "stream",
     "text": [
      "defaultdict(<class 'list'>, {'causal relationship': ['farmer-and-badger01-3', 'farmer-and-badger04-2', 'farmer-and-badger01-4', 'farmer-and-badger03-1', 'farmer-and-badger03-5', 'farmer-and-badger04-1'], 'feeling': ['farmer-and-badger02-2'], 'action': ['farmer-and-badger07-1', 'farmer-and-badger01-5', 'farmer-and-badger02-3', 'farmer-and-badger02-5', 'farmer-and-badger02-1'], 'character': ['farmer-and-badger02-4'], 'prediction': ['farmer-and-badger03-3', 'farmer-and-badger06-1'], 'outcome resolution': ['farmer-and-badger03-2', 'farmer-and-badger05-1']})\n",
      "\n",
      "defaultdict(<class 'list'>, {'action': ['Causal Effect', 'Coreference', 'Coreference', 'Coreference', 'Causal Effect', 'Coreference', 'Coreference', 'Coreference', 'Coreference', 'Causal Effect'], 'prediction': ['Temporal', 'Coreference', 'Coreference', 'Causal Effect'], 'feeling': ['Causal Effect'], 'character': ['Coreference', 'Coreference', 'Coreference'], 'causal relationship': ['Causal Effect', 'Coreference', 'Causal Effect', 'Coreference', 'Coreference', 'Coreference', 'Coreference', 'Coreference', 'Coreference', 'Causal Effect', 'Causal Effect', 'Causal Effect', 'Coreference', 'Coreference', 'Causal Effect'], 'outcome resolution': ['Causal Effect', 'Coreference', 'Coreference', 'Causal Effect', 'Coreference']})\n",
      "=== Relation Attribute 統計 ===\n",
      "causal relationship 2.5\n",
      "feeling 1.0\n",
      "action 2.0\n",
      "character 3.0\n",
      "prediction 2.0\n",
      "outcome resolution 2.5\n"
     ]
    }
   ],
   "source": [
    "attribute_type_counter = defaultdict(list)\n",
    "\n",
    "for path in attribute_f:\n",
    "    with open(path, 'r', encoding = 'utf-8') as f:\n",
    "        attribute = f.readline()\n",
    "        attribute_type_counter[attribute].append(path.split('/')[-1].replace('.txt', ''))\n",
    "\n",
    "print(attribute_type_counter)\n",
    "print(\"\")\n",
    "print(relation_attribute_type) \n",
    "\n",
    "print('=== Relation Attribute 統計 ===')\n",
    "for key in attribute_type_counter.keys():\n",
    "    print(key, len(relation_attribute_type[key]) / len(attribute_type_counter[key]) )"
   ]
  },
  {
   "cell_type": "markdown",
   "id": "6ff18eaf-f357-4bac-9ef7-86658ee057ef",
   "metadata": {},
   "source": [
    "## Relation bipartite 輸出"
   ]
  },
  {
   "cell_type": "code",
   "execution_count": 11,
   "id": "32e9186b-eb0a-4960-8c9c-0c7f07a4f72d",
   "metadata": {},
   "outputs": [],
   "source": [
    "# print(relation_attribute_type)\n",
    "\n",
    "register = []\n",
    "\n",
    "for key in relation_attribute_type:\n",
    "    relation_count = Counter(relation_attribute_type[key])\n",
    "    for r_type in relation_count:\n",
    "        register.append([key, r_type, relation_count[r_type]])\n",
    "\n",
    "if not os.path.isdir(f'bipartite_output_format/{name_id}'):\n",
    "    os.mkdir(f'bipartite_output_format/{name_id}')\n",
    "\n",
    "with open(f'bipartite_output_format/{name_id}/Relation.csv', 'w') as csvfile:\n",
    "    writer = csv.writer(csvfile, delimiter = ',')\n",
    "    for i in register:\n",
    "        writer.writerow(i)"
   ]
  },
  {
   "cell_type": "markdown",
   "id": "7ea38ccf",
   "metadata": {},
   "source": [
    "## Entity Count"
   ]
  },
  {
   "cell_type": "code",
   "execution_count": 12,
   "id": "49286002",
   "metadata": {},
   "outputs": [
    {
     "name": "stdout",
     "output_type": "stream",
     "text": [
      "全部英文故事： 4038\n",
      "(Entity)已標記英文故事： 7\n"
     ]
    }
   ],
   "source": [
    "labeled_entity_fn = os.listdir(entity_dir)\n",
    "labeled_entity_story = []\n",
    "for fn in labeled_entity_fn:\n",
    "    if fn.replace('.json', '') in eng_story:\n",
    "        labeled_entity_story.append(fn)\n",
    "\n",
    "print('全部英文故事：', len(eng_story))\n",
    "print('(Entity)已標記英文故事：', len(labeled_entity_story))"
   ]
  },
  {
   "cell_type": "code",
   "execution_count": 13,
   "id": "5815778b",
   "metadata": {},
   "outputs": [
    {
     "name": "stdout",
     "output_type": "stream",
     "text": [
      "共標記 0 個Entity\n",
      "=== Entity類別統計 ===\n"
     ]
    }
   ],
   "source": [
    "story_entity_counter = Counter()\n",
    "entity_type_counter = Counter()\n",
    "entity_attribute_type_counter = Counter()\n",
    "entity_attribute_type = defaultdict(list)\n",
    "\n",
    "for story in eng_story:\n",
    "    story_entity_counter[story.replace('.txt', '')] = 0\n",
    "\n",
    "for fn in labeled_entity_story:\n",
    "    path = os.path.join(entity_dir, fn)\n",
    "    with open(path, 'r', encoding='utf-8') as f:\n",
    "        record = json.load(f)\n",
    "    for entity in record:\n",
    "        entityType = entity['Entity_type']\n",
    "        entity_type_counter.update({entityType:1})\n",
    "        story_entity_counter.update({fn.replace('.json', ''):1})\n",
    "        \n",
    "        attribute_path = os.path.join(attr_dir, entity['which_QA'])\n",
    "        with open(attribute_path, 'r', encoding = 'utf-8') as atti_f: \n",
    "            attribute_type = atti_f.readline()\n",
    "            entity_attribute_type_counter.update({attribute_type:1})\n",
    "            entity_attribute_type[attribute_type].append(entityType)\n",
    "        \n",
    "total_entity = 0\n",
    "\n",
    "for tup in entity_type_counter.most_common():\n",
    "    total_entity += tup[1]\n",
    "\n",
    "print('共標記 {:} 個Entity'.format(total_entity))\n",
    "\n",
    "print('=== Entity類別統計 ===')\n",
    "for tup in entity_type_counter.most_common():\n",
    "    et, count = tup\n",
    "    print(et, ':', count)"
   ]
  },
  {
   "cell_type": "code",
   "execution_count": 14,
   "id": "65b7cd66-a565-483e-925e-6593d3b129da",
   "metadata": {},
   "outputs": [
    {
     "name": "stdout",
     "output_type": "stream",
     "text": [
      "Counter()\n",
      "defaultdict(<class 'list'>, {})\n"
     ]
    }
   ],
   "source": [
    "print(entity_attribute_type_counter)\n",
    "print(entity_attribute_type)"
   ]
  }
 ],
 "metadata": {
  "kernelspec": {
   "display_name": "Python 3 (ipykernel)",
   "language": "python",
   "name": "python3"
  },
  "language_info": {
   "codemirror_mode": {
    "name": "ipython",
    "version": 3
   },
   "file_extension": ".py",
   "mimetype": "text/x-python",
   "name": "python",
   "nbconvert_exporter": "python",
   "pygments_lexer": "ipython3",
   "version": "3.8.8"
  },
  "vscode": {
   "interpreter": {
    "hash": "31f2aee4e71d21fbe5cf8b01ff0e069b9275f58929596ceb00d14d90e3e16cd6"
   }
  },
  "widgets": {
   "application/vnd.jupyter.widget-state+json": {
    "state": {},
    "version_major": 2,
    "version_minor": 0
   }
  }
 },
 "nbformat": 4,
 "nbformat_minor": 5
}
